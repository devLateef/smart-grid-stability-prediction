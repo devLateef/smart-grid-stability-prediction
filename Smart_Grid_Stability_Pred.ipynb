{
 "cells": [
  {
   "cell_type": "code",
   "execution_count": 3,
   "id": "0d6124e0-b1bf-4bba-8d4c-8c478f1fab7a",
   "metadata": {},
   "outputs": [],
   "source": [
    "import numpy as np\n",
    "import pandas as pd\n",
    "import seaborn as sns\n",
    "import matplotlib.pyplot as plt\n",
    "from sklearn.preprocessing import StandardScaler\n",
    "from sklearn.model_selection import KFold\n",
    "from sklearn.metrics import confusion_matrix, accuracy_score\n",
    "import torch\n",
    "import torch.nn as nn\n",
    "import torch.optim as optim\n",
    "from datetime import datetime"
   ]
  },
  {
   "cell_type": "code",
   "execution_count": 5,
   "id": "34ba1930-763c-4fdf-8ac1-6ac75fd2c603",
   "metadata": {},
   "outputs": [],
   "source": [
    "def assessment(f_data, f_y_feature, f_x_feature, f_index=-1):\n",
    "    \"\"\"\n",
    "    Visualization function to show histograms and scatter plots.\n",
    "    \"\"\"\n",
    "    f_fig, f_a = plt.subplots(1, 2, figsize=(16, 4))\n",
    "    sns.histplot(f_data[f_x_feature], kde=False, ax=f_a[0], color=\"g\").set_xlabel(f_x_feature, fontsize=10)\n",
    "    if f_index >= 0:\n",
    "        plt.scatter(f_data[f_x_feature], f_data[f_y_feature], c=\"r\", edgecolors=\"w\")\n",
    "    else:\n",
    "        sns.scatterplot(x=f_x_feature, y=f_y_feature, data=f_data, hue=None, legend=False).set_xlabel(f_x_feature, fontsize=10)\n",
    "    plt.show()"
   ]
  },
  {
   "cell_type": "code",
   "execution_count": 7,
   "id": "f327a36b-19e0-49c8-88a4-84e4c3f5edfe",
   "metadata": {},
   "outputs": [],
   "source": [
    "def correlation_map(f_data, f_feature, f_number):\n",
    "    \"\"\"\n",
    "    Develops a heatmap showing correlations.\n",
    "    \"\"\"\n",
    "    f_most_correlated = f_data.corr().nlargest(f_number, f_feature)[f_feature].index\n",
    "    f_correlation = f_data[f_most_correlated].corr()\n",
    "\n",
    "    f_mask = np.zeros_like(f_correlation)\n",
    "    f_mask[np.triu_indices_from(f_mask)] = True\n",
    "    with sns.axes_style(\"white\"):\n",
    "        f_fig, f_ax = plt.subplots(figsize=(20, 10))\n",
    "        sns.heatmap(\n",
    "            f_correlation,\n",
    "            mask=f_mask,\n",
    "            vmin=-1,\n",
    "            vmax=1,\n",
    "            square=True,\n",
    "            center=0,\n",
    "            annot=True,\n",
    "            annot_kws={\"size\": 8},\n",
    "            cmap=\"PRGn\",\n",
    "        )\n",
    "    plt.show()"
   ]
  },
  {
   "cell_type": "code",
   "execution_count": 9,
   "id": "ca4ef86d-be6f-4c3c-8d88-ba6940841d78",
   "metadata": {},
   "outputs": [
    {
     "name": "stderr",
     "output_type": "stream",
     "text": [
      "C:\\Users\\Administrator\\AppData\\Local\\Temp\\ipykernel_18288\\1042916931.py:4: FutureWarning: Downcasting behavior in `replace` is deprecated and will be removed in a future version. To retain the old behavior, explicitly call `result.infer_objects(copy=False)`. To opt-in to the future behavior, set `pd.set_option('future.no_silent_downcasting', True)`\n",
      "  data[\"stabf\"] = data[\"stabf\"].replace(map1)\n"
     ]
    }
   ],
   "source": [
    "# Load and preprocess the data\n",
    "data = pd.read_csv(\"./dataset/smart_grid_stability_augmented.csv\")\n",
    "map1 = {\"unstable\": 0, \"stable\": 1}\n",
    "data[\"stabf\"] = data[\"stabf\"].replace(map1)\n",
    "data = data.sample(frac=1)"
   ]
  },
  {
   "cell_type": "code",
   "execution_count": 11,
   "id": "9fa79347-7b30-4498-8089-6814045c89bd",
   "metadata": {},
   "outputs": [
    {
     "name": "stdout",
     "output_type": "stream",
     "text": [
      "           tau1      tau2      tau3      tau4        p1        p2        p3  \\\n",
      "12968  4.014046  4.568030  1.883794  2.132401  3.959185 -1.595816 -1.503494   \n",
      "43689  9.207158  7.481929  9.601736  0.547248  2.673146 -1.425426 -0.631264   \n",
      "58365  1.329502  6.674247  0.861609  3.271743  4.270886 -1.200298 -1.464536   \n",
      "29466  4.592000  2.608346  4.596919  6.661568  4.786968 -1.239089 -1.875265   \n",
      "51867  9.086990  7.364079  8.149902  0.747363  3.862343 -0.974928 -1.856092   \n",
      "\n",
      "             p4        g1        g2        g3        g4      stab  stabf  \n",
      "12968 -0.859874  0.249547  0.178016  0.833712  0.275446 -0.031997      1  \n",
      "43689 -0.616457  0.890418  0.372402  0.918938  0.545468  0.047194      0  \n",
      "58365 -1.606052  0.771251  0.208511  0.749703  0.507819 -0.020643      1  \n",
      "29466 -1.672613  0.638428  0.581142  0.862322  0.326112  0.052624      0  \n",
      "51867 -1.031323  0.508734  0.949482  0.843780  0.374661  0.059953      0  \n"
     ]
    }
   ],
   "source": [
    "print(data.head())"
   ]
  },
  {
   "cell_type": "code",
   "execution_count": 41,
   "id": "56514f4b-6aeb-4468-aaee-ddee5877da32",
   "metadata": {},
   "outputs": [],
   "source": [
    "X = data.iloc[:, :12].values\n",
    "y = data.iloc[:, 13].values"
   ]
  },
  {
   "cell_type": "code",
   "execution_count": 43,
   "id": "9086a2d8-6832-489e-ba0a-73c19fcf31c1",
   "metadata": {},
   "outputs": [],
   "source": [
    "X_train, X_test = X[:54000], X[54000:]\n",
    "y_train, y_test = y[:54000], y[54000:]"
   ]
  },
  {
   "cell_type": "code",
   "execution_count": 45,
   "id": "efde9222-5590-45d2-b2ed-22c2c21a65c4",
   "metadata": {},
   "outputs": [],
   "source": [
    "scaler = StandardScaler()\n",
    "X_train = scaler.fit_transform(X_train)\n",
    "X_test = scaler.transform(X_test)"
   ]
  },
  {
   "cell_type": "code",
   "execution_count": 47,
   "id": "dac30e77-209a-4937-be01-00a9e353a322",
   "metadata": {},
   "outputs": [],
   "source": [
    "# Convert data to PyTorch tensors\n",
    "X_train = torch.tensor(X_train, dtype=torch.float32)\n",
    "y_train = torch.tensor(y_train, dtype=torch.float32).view(-1, 1)\n",
    "X_test = torch.tensor(X_test, dtype=torch.float32)\n",
    "y_test = torch.tensor(y_test, dtype=torch.float32).view(-1, 1)"
   ]
  },
  {
   "cell_type": "code",
   "execution_count": 79,
   "id": "6c19ff9a-019e-4d3d-b110-0d7040c5a5b6",
   "metadata": {},
   "outputs": [],
   "source": [
    "# Define the neural network\n",
    "class NeuralNetwork(nn.Module):\n",
    "    def __init__(self):\n",
    "        super(NeuralNetwork, self).__init__()\n",
    "        self.fc1 = nn.Linear(12, 24)\n",
    "        self.fc2 = nn.Linear(24, 24)\n",
    "        self.fc3 = nn.Linear(24, 12)\n",
    "        self.fc4 = nn.Linear(12, 1)\n",
    "        self.elu = nn.ELU()\n",
    "        self.sigmoid = nn.Sigmoid()\n",
    "\n",
    "    def forward(self, x):\n",
    "        x = self.elu(self.fc1(x))\n",
    "        x = self.elu(self.fc2(x))\n",
    "        x = self.elu(self.fc3(x))\n",
    "        x = self.sigmoid(self.fc4(x))\n",
    "        return x"
   ]
  },
  {
   "cell_type": "code",
   "execution_count": 81,
   "id": "77b69e55-90d1-4538-87f8-edf34b8001f3",
   "metadata": {},
   "outputs": [],
   "source": [
    "# Initialize the model, loss function, and optimizer\n",
    "model = NeuralNetwork()\n",
    "criterion = nn.BCELoss()\n",
    "optimizer = optim.Adam(model.parameters(), lr=0.001)"
   ]
  },
  {
   "cell_type": "code",
   "execution_count": 83,
   "id": "e0c9f3af-f973-4e44-9511-82d3e0da893e",
   "metadata": {},
   "outputs": [
    {
     "name": "stdout",
     "output_type": "stream",
     "text": [
      "Model evaluation\n",
      "\n"
     ]
    }
   ],
   "source": [
    "# Cross-validation\n",
    "kf = KFold(10, shuffle=True, random_state=10)\n",
    "start_time = datetime.now()\n",
    "print(\"Model evaluation\\n\")"
   ]
  },
  {
   "cell_type": "code",
   "execution_count": 87,
   "id": "87bd3977-e83f-471b-b549-d99611e0af7e",
   "metadata": {},
   "outputs": [
    {
     "name": "stdout",
     "output_type": "stream",
     "text": [
      "Fold 1 - Loss: 0.0975 | Accuracy: 96.06%\n",
      "Fold 2 - Loss: 0.0873 | Accuracy: 96.48%\n",
      "Fold 3 - Loss: 0.0711 | Accuracy: 97.26%\n",
      "Fold 4 - Loss: 0.0688 | Accuracy: 97.13%\n",
      "Fold 5 - Loss: 0.0621 | Accuracy: 97.50%\n",
      "Fold 6 - Loss: 0.0601 | Accuracy: 97.74%\n",
      "Fold 7 - Loss: 0.0542 | Accuracy: 97.96%\n",
      "Fold 8 - Loss: 0.0496 | Accuracy: 98.02%\n",
      "Fold 9 - Loss: 0.0544 | Accuracy: 97.91%\n",
      "Fold 10 - Loss: 0.0483 | Accuracy: 98.07%\n"
     ]
    }
   ],
   "source": [
    "for fold, (train_idx, val_idx) in enumerate(kf.split(X_train)):\n",
    "    x_train, x_val = X_train[train_idx], X_train[val_idx]\n",
    "    y_train_fold, y_val = y_train[train_idx], y_train[val_idx]\n",
    "    for epoch in range(50):\n",
    "        model.train()\n",
    "        optimizer.zero_grad()\n",
    "        outputs = model(x_train)\n",
    "        loss = criterion(outputs, y_train_fold)\n",
    "        loss.backward()\n",
    "        optimizer.step()\n",
    "\n",
    "    # Validation\n",
    "    model.eval()\n",
    "    with torch.no_grad():\n",
    "        val_outputs = model(x_val)\n",
    "        val_loss = criterion(val_outputs, y_val)\n",
    "        val_accuracy = accuracy_score(y_val.numpy(), (val_outputs.numpy() > 0.5).astype(int))\n",
    "        print(f\"Fold {fold + 1} - Loss: {val_loss:.4f} | Accuracy: {val_accuracy * 100:.2f}%\")"
   ]
  },
  {
   "cell_type": "code",
   "execution_count": 89,
   "id": "b85b7b7c-5cd3-4f14-8782-61c1ae272021",
   "metadata": {},
   "outputs": [
    {
     "name": "stdout",
     "output_type": "stream",
     "text": [
      "\n",
      "Confusion Matrix:\n",
      "[[3714   60]\n",
      " [  71 2155]]\n",
      "Test Accuracy: 97.82%\n",
      "\n",
      "Start time 2024-12-29 14:01:55.174764\n",
      "End time 2024-12-29 14:02:34.354113\n",
      "Time elapsed 0:00:39.179349\n"
     ]
    }
   ],
   "source": [
    "# Test the model\n",
    "model.eval()\n",
    "with torch.no_grad():\n",
    "    y_pred = model(X_test)\n",
    "    y_pred = (y_pred.numpy() > 0.5).astype(int)\n",
    "    cm = confusion_matrix(y_test.numpy(), y_pred)\n",
    "    test_accuracy = accuracy_score(y_test.numpy(), y_pred)\n",
    "\n",
    "print(f\"\\nConfusion Matrix:\\n{cm}\")\n",
    "print(f\"Test Accuracy: {test_accuracy * 100:.2f}%\")\n",
    "\n",
    "end_time = datetime.now()\n",
    "print(\"\\nStart time\", start_time)\n",
    "print(\"End time\", end_time)\n",
    "print(\"Time elapsed\", end_time - start_time)"
   ]
  },
  {
   "cell_type": "code",
   "execution_count": 91,
   "id": "c61c152b-352c-4952-a813-8b71f39a5ac5",
   "metadata": {},
   "outputs": [
    {
     "name": "stdout",
     "output_type": "stream",
     "text": [
      "                 Predicted Unstable  Predicted Stable\n",
      "Actual Unstable                3714                60\n",
      "Actual Stable                    71              2155\n"
     ]
    }
   ],
   "source": [
    "cm = pd.DataFrame(data=confusion_matrix(y_test, y_pred, labels=[0, 1]),\n",
    "                  index=[\"Actual Unstable\", \"Actual Stable\"],\n",
    "                  columns=[\"Predicted Unstable\", \"Predicted Stable\"])\n",
    "print(cm)"
   ]
  },
  {
   "cell_type": "code",
   "execution_count": 93,
   "id": "521269dd-194a-42eb-be9b-89b949d50b86",
   "metadata": {},
   "outputs": [
    {
     "name": "stdout",
     "output_type": "stream",
     "text": [
      "Accuracy per the confusion matrix: 97.82%\n"
     ]
    }
   ],
   "source": [
    "print(f'Accuracy per the confusion matrix: {((cm.iloc[0, 0] + cm.iloc[1, 1]) / len(y_test) * 100):.2f}%')"
   ]
  },
  {
   "cell_type": "code",
   "execution_count": null,
   "id": "ecbfb688-5a13-418a-a317-0c01d133e4a9",
   "metadata": {},
   "outputs": [],
   "source": []
  }
 ],
 "metadata": {
  "kernelspec": {
   "display_name": "Python 3 (ipykernel)",
   "language": "python",
   "name": "python3"
  },
  "language_info": {
   "codemirror_mode": {
    "name": "ipython",
    "version": 3
   },
   "file_extension": ".py",
   "mimetype": "text/x-python",
   "name": "python",
   "nbconvert_exporter": "python",
   "pygments_lexer": "ipython3",
   "version": "3.12.4"
  }
 },
 "nbformat": 4,
 "nbformat_minor": 5
}
